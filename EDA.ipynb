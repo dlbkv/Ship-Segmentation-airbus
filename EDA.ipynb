{
 "cells": [
  {
   "cell_type": "markdown",
   "id": "e4240557",
   "metadata": {
    "papermill": {
     "duration": 0.005042,
     "end_time": "2024-07-11T15:39:32.398266",
     "exception": false,
     "start_time": "2024-07-11T15:39:32.393224",
     "status": "completed"
    },
    "tags": []
   },
   "source": [
    "# **Дослідницький аналіз даних для датасету Airbus Ship Detection**"
   ]
  },
  {
   "cell_type": "code",
   "execution_count": 1,
   "id": "6338f579",
   "metadata": {
    "_cell_guid": "b1076dfc-b9ad-4769-8c92-a6c4dae69d19",
    "_uuid": "8f2839f25d086af736a60e9eeb907d3b93b6e0e5",
    "execution": {
     "iopub.execute_input": "2024-07-11T15:39:32.409130Z",
     "iopub.status.busy": "2024-07-11T15:39:32.408666Z",
     "iopub.status.idle": "2024-07-11T15:39:49.989181Z",
     "shell.execute_reply": "2024-07-11T15:39:49.987627Z"
    },
    "papermill": {
     "duration": 17.589468,
     "end_time": "2024-07-11T15:39:49.992330",
     "exception": false,
     "start_time": "2024-07-11T15:39:32.402862",
     "status": "completed"
    },
    "tags": []
   },
   "outputs": [
    {
     "name": "stderr",
     "output_type": "stream",
     "text": [
      "2024-07-11 15:39:35.647553: E external/local_xla/xla/stream_executor/cuda/cuda_dnn.cc:9261] Unable to register cuDNN factory: Attempting to register factory for plugin cuDNN when one has already been registered\n",
      "2024-07-11 15:39:35.647714: E external/local_xla/xla/stream_executor/cuda/cuda_fft.cc:607] Unable to register cuFFT factory: Attempting to register factory for plugin cuFFT when one has already been registered\n",
      "2024-07-11 15:39:35.810601: E external/local_xla/xla/stream_executor/cuda/cuda_blas.cc:1515] Unable to register cuBLAS factory: Attempting to register factory for plugin cuBLAS when one has already been registered\n"
     ]
    },
    {
     "data": {
      "text/plain": [
       "'CPU'"
      ]
     },
     "execution_count": 1,
     "metadata": {},
     "output_type": "execute_result"
    }
   ],
   "source": [
    "import numpy as np \n",
    "import pandas as pd \n",
    "import tensorflow as tf\n",
    "import seaborn as sns\n",
    "import matplotlib.pyplot as plt\n",
    "\n",
    "device = 'GPU' if tf.config.list_physical_devices('GPU') else 'CPU'\n",
    "device"
   ]
  },
  {
   "cell_type": "code",
   "execution_count": 2,
   "id": "3fb52f3c",
   "metadata": {
    "execution": {
     "iopub.execute_input": "2024-07-11T15:39:50.004346Z",
     "iopub.status.busy": "2024-07-11T15:39:50.003469Z",
     "iopub.status.idle": "2024-07-11T15:39:51.283862Z",
     "shell.execute_reply": "2024-07-11T15:39:51.282453Z"
    },
    "papermill": {
     "duration": 1.289913,
     "end_time": "2024-07-11T15:39:51.287008",
     "exception": false,
     "start_time": "2024-07-11T15:39:49.997095",
     "status": "completed"
    },
    "tags": []
   },
   "outputs": [
    {
     "data": {
      "text/html": [
       "<div>\n",
       "<style scoped>\n",
       "    .dataframe tbody tr th:only-of-type {\n",
       "        vertical-align: middle;\n",
       "    }\n",
       "\n",
       "    .dataframe tbody tr th {\n",
       "        vertical-align: top;\n",
       "    }\n",
       "\n",
       "    .dataframe thead th {\n",
       "        text-align: right;\n",
       "    }\n",
       "</style>\n",
       "<table border=\"1\" class=\"dataframe\">\n",
       "  <thead>\n",
       "    <tr style=\"text-align: right;\">\n",
       "      <th></th>\n",
       "      <th>ImageId</th>\n",
       "      <th>EncodedPixels</th>\n",
       "    </tr>\n",
       "  </thead>\n",
       "  <tbody>\n",
       "    <tr>\n",
       "      <th>0</th>\n",
       "      <td>00003e153.jpg</td>\n",
       "      <td>NaN</td>\n",
       "    </tr>\n",
       "    <tr>\n",
       "      <th>1</th>\n",
       "      <td>0001124c7.jpg</td>\n",
       "      <td>NaN</td>\n",
       "    </tr>\n",
       "    <tr>\n",
       "      <th>2</th>\n",
       "      <td>000155de5.jpg</td>\n",
       "      <td>264661 17 265429 33 266197 33 266965 33 267733...</td>\n",
       "    </tr>\n",
       "    <tr>\n",
       "      <th>3</th>\n",
       "      <td>000194a2d.jpg</td>\n",
       "      <td>360486 1 361252 4 362019 5 362785 8 363552 10 ...</td>\n",
       "    </tr>\n",
       "    <tr>\n",
       "      <th>4</th>\n",
       "      <td>000194a2d.jpg</td>\n",
       "      <td>51834 9 52602 9 53370 9 54138 9 54906 9 55674 ...</td>\n",
       "    </tr>\n",
       "    <tr>\n",
       "      <th>...</th>\n",
       "      <td>...</td>\n",
       "      <td>...</td>\n",
       "    </tr>\n",
       "    <tr>\n",
       "      <th>231718</th>\n",
       "      <td>fffedbb6b.jpg</td>\n",
       "      <td>NaN</td>\n",
       "    </tr>\n",
       "    <tr>\n",
       "      <th>231719</th>\n",
       "      <td>ffff2aa57.jpg</td>\n",
       "      <td>NaN</td>\n",
       "    </tr>\n",
       "    <tr>\n",
       "      <th>231720</th>\n",
       "      <td>ffff6e525.jpg</td>\n",
       "      <td>NaN</td>\n",
       "    </tr>\n",
       "    <tr>\n",
       "      <th>231721</th>\n",
       "      <td>ffffc50b4.jpg</td>\n",
       "      <td>NaN</td>\n",
       "    </tr>\n",
       "    <tr>\n",
       "      <th>231722</th>\n",
       "      <td>ffffe97f3.jpg</td>\n",
       "      <td>NaN</td>\n",
       "    </tr>\n",
       "  </tbody>\n",
       "</table>\n",
       "<p>231723 rows × 2 columns</p>\n",
       "</div>"
      ],
      "text/plain": [
       "              ImageId                                      EncodedPixels\n",
       "0       00003e153.jpg                                                NaN\n",
       "1       0001124c7.jpg                                                NaN\n",
       "2       000155de5.jpg  264661 17 265429 33 266197 33 266965 33 267733...\n",
       "3       000194a2d.jpg  360486 1 361252 4 362019 5 362785 8 363552 10 ...\n",
       "4       000194a2d.jpg  51834 9 52602 9 53370 9 54138 9 54906 9 55674 ...\n",
       "...               ...                                                ...\n",
       "231718  fffedbb6b.jpg                                                NaN\n",
       "231719  ffff2aa57.jpg                                                NaN\n",
       "231720  ffff6e525.jpg                                                NaN\n",
       "231721  ffffc50b4.jpg                                                NaN\n",
       "231722  ffffe97f3.jpg                                                NaN\n",
       "\n",
       "[231723 rows x 2 columns]"
      ]
     },
     "execution_count": 2,
     "metadata": {},
     "output_type": "execute_result"
    }
   ],
   "source": [
    "df = pd.read_csv('/kaggle/input/airbus-ship-detection/train_ship_segmentations_v2.csv')\n",
    "df"
   ]
  },
  {
   "cell_type": "markdown",
   "id": "e55fe3d4",
   "metadata": {
    "papermill": {
     "duration": 0.00486,
     "end_time": "2024-07-11T15:39:51.311743",
     "exception": false,
     "start_time": "2024-07-11T15:39:51.306883",
     "status": "completed"
    },
    "tags": []
   },
   "source": [
    "Присутні рядки з однаковим ImageId та різними EncodedPixels. Можна зробити висновок, що зображення, що мають декілька кораблів розділені на різні рядки з однаковим ImageId та EncodedPixels для кожного корабля присутньому на зображенні\n"
   ]
  },
  {
   "cell_type": "code",
   "execution_count": 3,
   "id": "f7b55468",
   "metadata": {
    "execution": {
     "iopub.execute_input": "2024-07-11T15:39:51.324731Z",
     "iopub.status.busy": "2024-07-11T15:39:51.323332Z",
     "iopub.status.idle": "2024-07-11T15:39:51.884690Z",
     "shell.execute_reply": "2024-07-11T15:39:51.883197Z"
    },
    "papermill": {
     "duration": 0.570824,
     "end_time": "2024-07-11T15:39:51.887514",
     "exception": false,
     "start_time": "2024-07-11T15:39:51.316690",
     "status": "completed"
    },
    "tags": []
   },
   "outputs": [
    {
     "data": {
      "text/html": [
       "<div>\n",
       "<style scoped>\n",
       "    .dataframe tbody tr th:only-of-type {\n",
       "        vertical-align: middle;\n",
       "    }\n",
       "\n",
       "    .dataframe tbody tr th {\n",
       "        vertical-align: top;\n",
       "    }\n",
       "\n",
       "    .dataframe thead th {\n",
       "        text-align: right;\n",
       "    }\n",
       "</style>\n",
       "<table border=\"1\" class=\"dataframe\">\n",
       "  <thead>\n",
       "    <tr style=\"text-align: right;\">\n",
       "      <th></th>\n",
       "      <th>ImageId</th>\n",
       "      <th>EncodedPixels</th>\n",
       "    </tr>\n",
       "  </thead>\n",
       "  <tbody>\n",
       "    <tr>\n",
       "      <th>count</th>\n",
       "      <td>231723</td>\n",
       "      <td>81723</td>\n",
       "    </tr>\n",
       "    <tr>\n",
       "      <th>unique</th>\n",
       "      <td>192556</td>\n",
       "      <td>81722</td>\n",
       "    </tr>\n",
       "    <tr>\n",
       "      <th>top</th>\n",
       "      <td>e6fd0c12e.jpg</td>\n",
       "      <td>43801 1 44567 4 45334 5 46100 8 46867 9 47636 ...</td>\n",
       "    </tr>\n",
       "    <tr>\n",
       "      <th>freq</th>\n",
       "      <td>15</td>\n",
       "      <td>2</td>\n",
       "    </tr>\n",
       "  </tbody>\n",
       "</table>\n",
       "</div>"
      ],
      "text/plain": [
       "              ImageId                                      EncodedPixels\n",
       "count          231723                                              81723\n",
       "unique         192556                                              81722\n",
       "top     e6fd0c12e.jpg  43801 1 44567 4 45334 5 46100 8 46867 9 47636 ...\n",
       "freq               15                                                  2"
      ]
     },
     "execution_count": 3,
     "metadata": {},
     "output_type": "execute_result"
    }
   ],
   "source": [
    "df.describe()"
   ]
  },
  {
   "cell_type": "code",
   "execution_count": 4,
   "id": "e56bc70c",
   "metadata": {
    "execution": {
     "iopub.execute_input": "2024-07-11T15:39:51.899807Z",
     "iopub.status.busy": "2024-07-11T15:39:51.899371Z",
     "iopub.status.idle": "2024-07-11T15:39:51.971479Z",
     "shell.execute_reply": "2024-07-11T15:39:51.970004Z"
    },
    "papermill": {
     "duration": 0.081991,
     "end_time": "2024-07-11T15:39:51.974756",
     "exception": false,
     "start_time": "2024-07-11T15:39:51.892765",
     "status": "completed"
    },
    "tags": []
   },
   "outputs": [
    {
     "name": "stdout",
     "output_type": "stream",
     "text": [
      "<class 'pandas.core.frame.DataFrame'>\n",
      "RangeIndex: 231723 entries, 0 to 231722\n",
      "Data columns (total 2 columns):\n",
      " #   Column         Non-Null Count   Dtype \n",
      "---  ------         --------------   ----- \n",
      " 0   ImageId        231723 non-null  object\n",
      " 1   EncodedPixels  81723 non-null   object\n",
      "dtypes: object(2)\n",
      "memory usage: 3.5+ MB\n"
     ]
    }
   ],
   "source": [
    "df.info()"
   ]
  },
  {
   "cell_type": "code",
   "execution_count": 5,
   "id": "879d4080",
   "metadata": {
    "execution": {
     "iopub.execute_input": "2024-07-11T15:39:51.987242Z",
     "iopub.status.busy": "2024-07-11T15:39:51.986777Z",
     "iopub.status.idle": "2024-07-11T15:39:52.100823Z",
     "shell.execute_reply": "2024-07-11T15:39:52.099340Z"
    },
    "papermill": {
     "duration": 0.124126,
     "end_time": "2024-07-11T15:39:52.104201",
     "exception": false,
     "start_time": "2024-07-11T15:39:51.980075",
     "status": "completed"
    },
    "tags": []
   },
   "outputs": [
    {
     "name": "stdout",
     "output_type": "stream",
     "text": [
      "total images:  192556\n",
      "total ships:  81723\n"
     ]
    }
   ],
   "source": [
    "num_images = df['ImageId'].nunique()\n",
    "num_ships = df[df['EncodedPixels'].notnull()].shape[0]\n",
    "print('total images: ', num_images)\n",
    "print('total ships: ', num_ships)"
   ]
  },
  {
   "cell_type": "code",
   "execution_count": 6,
   "id": "3ca53bb9",
   "metadata": {
    "execution": {
     "iopub.execute_input": "2024-07-11T15:39:52.116795Z",
     "iopub.status.busy": "2024-07-11T15:39:52.116331Z",
     "iopub.status.idle": "2024-07-11T15:39:52.731782Z",
     "shell.execute_reply": "2024-07-11T15:39:52.730561Z"
    },
    "papermill": {
     "duration": 0.624995,
     "end_time": "2024-07-11T15:39:52.734426",
     "exception": false,
     "start_time": "2024-07-11T15:39:52.109431",
     "status": "completed"
    },
    "tags": []
   },
   "outputs": [
    {
     "data": {
      "image/png": "[encoded data removed]",
      "text/plain": [
       "<Figure size 640x480 with 1 Axes>"
      ]
     },
     "metadata": {},
     "output_type": "display_data"
    },
    {
     "name": "stdout",
     "output_type": "stream",
     "text": [
      "Процент зображень з кораблями: 22.10%\n"
     ]
    }
   ],
   "source": [
    "# Створення стовпця для маркування зображень з кораблями\n",
    "df['has_ship'] = df['EncodedPixels'].notnull().astype(int)\n",
    "\n",
    "# Групування по зображенню, так як деякі зображення мають декілька кораблів\n",
    "grouped_df = df.groupby('ImageId')['has_ship'].max().reset_index()\n",
    "\n",
    "# Гістограмма співвідношення зображень з кораблями та без них\n",
    "sns.countplot(x='has_ship', data=grouped_df)\n",
    "plt.xlabel('Has Ship')\n",
    "plt.ylabel('Count')\n",
    "plt.title('Distribution of Images with/without Ships')\n",
    "plt.show()\n",
    "\n",
    "# Підрахунок проценту зображень з кораблями\n",
    "percent_with_ship = grouped_df['has_ship'].mean() * 100\n",
    "print(f\"Процент зображень з кораблями: {percent_with_ship:.2f}%\")"
   ]
  },
  {
   "cell_type": "markdown",
   "id": "90897503",
   "metadata": {
    "papermill": {
     "duration": 0.005296,
     "end_time": "2024-07-11T15:39:52.745520",
     "exception": false,
     "start_time": "2024-07-11T15:39:52.740224",
     "status": "completed"
    },
    "tags": []
   },
   "source": [
    "Спираючись на інформацію вище, можна побачити, що приблизно 78% зображень не має кораблів "
   ]
  },
  {
   "cell_type": "code",
   "execution_count": null,
   "id": "24454ad4",
   "metadata": {
    "papermill": {
     "duration": 0.005322,
     "end_time": "2024-07-11T15:39:52.756451",
     "exception": false,
     "start_time": "2024-07-11T15:39:52.751129",
     "status": "completed"
    },
    "tags": []
   },
   "outputs": [],
   "source": []
  }
 ],
 "metadata": {
  "kaggle": {
   "accelerator": "none",
   "dataSources": [
    {
     "databundleVersionId": 868324,
     "sourceId": 9988,
     "sourceType": "competition"
    }
   ],
   "dockerImageVersionId": 30732,
   "isGpuEnabled": false,
   "isInternetEnabled": true,
   "language": "python",
   "sourceType": "notebook"
  },
  "kernelspec": {
   "display_name": "Python 3",
   "language": "python",
   "name": "python3"
  },
  "language_info": {
   "codemirror_mode": {
    "name": "ipython",
    "version": 3
   },
   "file_extension": ".py",
   "mimetype": "text/x-python",
   "name": "python",
   "nbconvert_exporter": "python",
   "pygments_lexer": "ipython3",
   "version": "3.10.13"
  },
  "papermill": {
   "default_parameters": {},
   "duration": 25.233374,
   "end_time": "2024-07-11T15:39:54.391380",
   "environment_variables": {},
   "exception": null,
   "input_path": "__notebook__.ipynb",
   "output_path": "__notebook__.ipynb",
   "parameters": {},
   "start_time": "2024-07-11T15:39:29.158006",
   "version": "2.5.0"
  }
 },
 "nbformat": 4,
 "nbformat_minor": 5
}
